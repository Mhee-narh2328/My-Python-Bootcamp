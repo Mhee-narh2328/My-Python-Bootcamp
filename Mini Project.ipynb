{
 "cells": [
  {
   "cell_type": "code",
   "execution_count": 1,
   "id": "1ea5d92a",
   "metadata": {},
   "outputs": [
    {
     "name": "stdout",
     "output_type": "stream",
     "text": [
      "[1, 2, 3]\n",
      "[4, 5, 6]\n",
      "[7, 8, 9]\n"
     ]
    }
   ],
   "source": [
    "print([1,2,3])\n",
    "print([4,5,6])\n",
    "print([7,8,9])"
   ]
  },
  {
   "cell_type": "code",
   "execution_count": 2,
   "id": "88b45213",
   "metadata": {},
   "outputs": [],
   "source": [
    "# Instead we can put the above operation in a function\n",
    "def display(row1, row2, row3):\n",
    "    print(row1)\n",
    "    print(row2)\n",
    "    print(row3)"
   ]
  },
  {
   "cell_type": "code",
   "execution_count": 3,
   "id": "7a9e3e4b",
   "metadata": {},
   "outputs": [
    {
     "name": "stdout",
     "output_type": "stream",
     "text": [
      "[1, 2, 3]\n",
      "[1, 2, 3]\n",
      "[1, 2, 3]\n"
     ]
    }
   ],
   "source": [
    "example_row = [1,2,3]\n",
    "display(example_row, example_row,example_row)"
   ]
  },
  {
   "cell_type": "code",
   "execution_count": 4,
   "id": "24eeb5a3",
   "metadata": {},
   "outputs": [],
   "source": [
    "row1 = ['', '', '']\n",
    "row2 = ['', '', '']\n",
    "row3 = ['', '', '']"
   ]
  },
  {
   "cell_type": "code",
   "execution_count": 5,
   "id": "f8328f56",
   "metadata": {},
   "outputs": [
    {
     "name": "stdout",
     "output_type": "stream",
     "text": [
      "['', '', '']\n",
      "['', '', '']\n",
      "['', '', '']\n"
     ]
    }
   ],
   "source": [
    "display(row1, row2,row3)"
   ]
  },
  {
   "cell_type": "code",
   "execution_count": 6,
   "id": "120ef504",
   "metadata": {},
   "outputs": [],
   "source": [
    "row2[1] = 'x'"
   ]
  },
  {
   "cell_type": "code",
   "execution_count": 7,
   "id": "292e6d55",
   "metadata": {},
   "outputs": [
    {
     "name": "stdout",
     "output_type": "stream",
     "text": [
      "['', '', '']\n",
      "['', 'x', '']\n",
      "['', '', '']\n"
     ]
    }
   ],
   "source": [
    "display(row1, row2,row3)"
   ]
  },
  {
   "cell_type": "code",
   "execution_count": 8,
   "id": "fb43b31c",
   "metadata": {},
   "outputs": [
    {
     "name": "stdout",
     "output_type": "stream",
     "text": [
      "Please enter a value: 4\n"
     ]
    },
    {
     "data": {
      "text/plain": [
       "'4'"
      ]
     },
     "execution_count": 8,
     "metadata": {},
     "output_type": "execute_result"
    }
   ],
   "source": [
    "input(\"Please enter a value: \")"
   ]
  },
  {
   "cell_type": "code",
   "execution_count": 9,
   "id": "c3a53d35",
   "metadata": {},
   "outputs": [
    {
     "name": "stdout",
     "output_type": "stream",
     "text": [
      "Please enter a value: 3\n"
     ]
    }
   ],
   "source": [
    "result = input(\"Please enter a value: \")"
   ]
  },
  {
   "cell_type": "code",
   "execution_count": 10,
   "id": "fd837c1b",
   "metadata": {},
   "outputs": [
    {
     "data": {
      "text/plain": [
       "'3'"
      ]
     },
     "execution_count": 10,
     "metadata": {},
     "output_type": "execute_result"
    }
   ],
   "source": [
    "result\n"
   ]
  },
  {
   "cell_type": "code",
   "execution_count": 11,
   "id": "7863bfea",
   "metadata": {},
   "outputs": [
    {
     "name": "stdout",
     "output_type": "stream",
     "text": [
      "Please enter a value: 2\n"
     ]
    }
   ],
   "source": [
    "result =int(input(\"Please enter a value: \"))"
   ]
  },
  {
   "cell_type": "code",
   "execution_count": 12,
   "id": "62913f67",
   "metadata": {},
   "outputs": [
    {
     "data": {
      "text/plain": [
       "int"
      ]
     },
     "execution_count": 12,
     "metadata": {},
     "output_type": "execute_result"
    }
   ],
   "source": [
    "type(result)"
   ]
  },
  {
   "cell_type": "code",
   "execution_count": 13,
   "id": "2781e3a1",
   "metadata": {},
   "outputs": [
    {
     "name": "stdout",
     "output_type": "stream",
     "text": [
      "choose an index position: 1\n"
     ]
    }
   ],
   "source": [
    "position_index =int(input(\"choose an index position: \"))"
   ]
  },
  {
   "cell_type": "code",
   "execution_count": 14,
   "id": "38ea8c7b",
   "metadata": {},
   "outputs": [
    {
     "data": {
      "text/plain": [
       "'x'"
      ]
     },
     "execution_count": 14,
     "metadata": {},
     "output_type": "execute_result"
    }
   ],
   "source": [
    "row2[position_index]"
   ]
  },
  {
   "cell_type": "code",
   "execution_count": 15,
   "id": "94624832",
   "metadata": {},
   "outputs": [],
   "source": [
    "# Validating User Input\n",
    "def user_choice():\n",
    "    choice = input(\"please enter a number(0-10):\")\n",
    "    \n",
    "    return int(choice)"
   ]
  },
  {
   "cell_type": "code",
   "execution_count": 16,
   "id": "340df431",
   "metadata": {},
   "outputs": [
    {
     "name": "stdout",
     "output_type": "stream",
     "text": [
      "please enter a number(0-10):3\n"
     ]
    },
    {
     "data": {
      "text/plain": [
       "3"
      ]
     },
     "execution_count": 16,
     "metadata": {},
     "output_type": "execute_result"
    }
   ],
   "source": [
    "user_choice()"
   ]
  },
  {
   "cell_type": "code",
   "execution_count": 17,
   "id": "a73b783c",
   "metadata": {},
   "outputs": [],
   "source": [
    "def user_choice():\n",
    "    choice = \"WRONG\"\n",
    "    \n",
    "    while choice.isdigit() == False:\n",
    "        choice = input(\"please enter a number(0-10):\")\n",
    "        \n",
    "        if choice.isdigit() == False:\n",
    "            print(\"Sorry this is not a digit\")\n",
    "    return int(choice)"
   ]
  },
  {
   "cell_type": "code",
   "execution_count": 18,
   "id": "5db326cc",
   "metadata": {},
   "outputs": [
    {
     "name": "stdout",
     "output_type": "stream",
     "text": [
      "please enter a number(0-10):3\n"
     ]
    },
    {
     "data": {
      "text/plain": [
       "3"
      ]
     },
     "execution_count": 18,
     "metadata": {},
     "output_type": "execute_result"
    }
   ],
   "source": [
    "user_choice()"
   ]
  },
  {
   "cell_type": "code",
   "execution_count": 19,
   "id": "2a3be316",
   "metadata": {},
   "outputs": [],
   "source": [
    "def user_choice():\n",
    "    #VARIABLES\n",
    "    # Initial\n",
    "    choice = \"WRONG\"\n",
    "    acceptable_range = range(0, 11)\n",
    "    within_range = False\n",
    "    \n",
    "    #TWO CONITION TO CHECK\n",
    "    # DIGIT OR WITHIN_RANGE = False\n",
    "    \n",
    "    while choice.isdigit() == False or within_range == False:\n",
    "        choice = input(\"please enter a number(0-11):\")\n",
    "        \n",
    "        #DIGIT CHECK\n",
    "        if choice.isdigit() == False:\n",
    "            print(\"Sorry this is not a digit\")\n",
    "        \n",
    "        # RANGE CHECK\n",
    "        if choice.isdigit() == True:\n",
    "            if int(choice) in acceptable_range:\n",
    "                within_range = True\n",
    "            else:\n",
    "                print(\"Sorry, you are out of acceptable range(0-10)\")\n",
    "                within_range = False\n",
    "    return int(choice)"
   ]
  },
  {
   "cell_type": "code",
   "execution_count": 21,
   "id": "d394c8bb",
   "metadata": {},
   "outputs": [
    {
     "name": "stdout",
     "output_type": "stream",
     "text": [
      "please enter a number(0-11):4\n"
     ]
    },
    {
     "data": {
      "text/plain": [
       "4"
      ]
     },
     "execution_count": 21,
     "metadata": {},
     "output_type": "execute_result"
    }
   ],
   "source": [
    "user_choice()"
   ]
  },
  {
   "cell_type": "code",
   "execution_count": null,
   "id": "45803b0c",
   "metadata": {},
   "outputs": [],
   "source": []
  }
 ],
 "metadata": {
  "kernelspec": {
   "display_name": "Python 3 (ipykernel)",
   "language": "python",
   "name": "python3"
  },
  "language_info": {
   "codemirror_mode": {
    "name": "ipython",
    "version": 3
   },
   "file_extension": ".py",
   "mimetype": "text/x-python",
   "name": "python",
   "nbconvert_exporter": "python",
   "pygments_lexer": "ipython3",
   "version": "3.9.12"
  }
 },
 "nbformat": 4,
 "nbformat_minor": 5
}
