{
 "cells": [
  {
   "cell_type": "code",
   "execution_count": 1,
   "id": "9b139c01",
   "metadata": {},
   "outputs": [],
   "source": [
    "# Methods and functions"
   ]
  },
  {
   "cell_type": "code",
   "execution_count": 2,
   "id": "7c4b2057",
   "metadata": {},
   "outputs": [],
   "source": [
    "mylist = [1, 2, 3]"
   ]
  },
  {
   "cell_type": "code",
   "execution_count": 3,
   "id": "c59d55cc",
   "metadata": {},
   "outputs": [],
   "source": [
    "mylist.append(4)"
   ]
  },
  {
   "cell_type": "code",
   "execution_count": 4,
   "id": "e781a6fd",
   "metadata": {},
   "outputs": [
    {
     "data": {
      "text/plain": [
       "[1, 2, 3, 4]"
      ]
     },
     "execution_count": 4,
     "metadata": {},
     "output_type": "execute_result"
    }
   ],
   "source": [
    "mylist"
   ]
  },
  {
   "cell_type": "code",
   "execution_count": 5,
   "id": "04446ec0",
   "metadata": {},
   "outputs": [
    {
     "data": {
      "text/plain": [
       "4"
      ]
     },
     "execution_count": 5,
     "metadata": {},
     "output_type": "execute_result"
    }
   ],
   "source": [
    "mylist.pop()"
   ]
  },
  {
   "cell_type": "code",
   "execution_count": 7,
   "id": "8720369d",
   "metadata": {},
   "outputs": [
    {
     "data": {
      "text/plain": [
       "[1, 2, 3]"
      ]
     },
     "execution_count": 7,
     "metadata": {},
     "output_type": "execute_result"
    }
   ],
   "source": [
    "mylist"
   ]
  },
  {
   "cell_type": "code",
   "execution_count": 8,
   "id": "16be47fc",
   "metadata": {},
   "outputs": [
    {
     "name": "stdout",
     "output_type": "stream",
     "text": [
      "Help on built-in function insert:\n",
      "\n",
      "insert(index, object, /) method of builtins.list instance\n",
      "    Insert object before index.\n",
      "\n"
     ]
    }
   ],
   "source": [
    "# using help to understand method \n",
    "help(mylist.insert)"
   ]
  },
  {
   "cell_type": "code",
   "execution_count": 9,
   "id": "05b30856",
   "metadata": {},
   "outputs": [],
   "source": [
    "# Functions allows us to create blocks of code that can be esily executed many times, without needing to constantly rewrite the entire block of code"
   ]
  },
  {
   "cell_type": "code",
   "execution_count": 10,
   "id": "32120139",
   "metadata": {},
   "outputs": [],
   "source": [
    "# def keyword\n",
    "def name_of_function():\n",
    "    print(\"Hello\")"
   ]
  },
  {
   "cell_type": "code",
   "execution_count": 12,
   "id": "ffff5d2b",
   "metadata": {},
   "outputs": [
    {
     "name": "stdout",
     "output_type": "stream",
     "text": [
      "Hello\n"
     ]
    }
   ],
   "source": [
    "name_of_function()"
   ]
  },
  {
   "cell_type": "code",
   "execution_count": 13,
   "id": "92ae6c0e",
   "metadata": {},
   "outputs": [],
   "source": [
    "# You can pass name to the function\n",
    "def name_of_function(name):\n",
    "    print(\"Hello\" + name)"
   ]
  },
  {
   "cell_type": "code",
   "execution_count": 18,
   "id": "9c8afa58",
   "metadata": {},
   "outputs": [
    {
     "name": "stdout",
     "output_type": "stream",
     "text": [
      "Hello Yomi\n"
     ]
    }
   ],
   "source": [
    "name_of_function(\" Yomi\")"
   ]
  },
  {
   "cell_type": "code",
   "execution_count": 19,
   "id": "277434bf",
   "metadata": {},
   "outputs": [],
   "source": [
    "# You can use it for calculation\n",
    "def add_function(num1, num2):\n",
    "    return num1 + num2"
   ]
  },
  {
   "cell_type": "code",
   "execution_count": 20,
   "id": "44fc12da",
   "metadata": {},
   "outputs": [
    {
     "name": "stdout",
     "output_type": "stream",
     "text": [
      "3\n"
     ]
    }
   ],
   "source": [
    "result = add_function(1,2)\n",
    "print(result)"
   ]
  },
  {
   "cell_type": "code",
   "execution_count": 21,
   "id": "fe8f10e6",
   "metadata": {},
   "outputs": [],
   "source": [
    "# Basic functions in python\n",
    "def say_hello():\n",
    "    print(\"hello\")\n",
    "    print(\"are\")\n",
    "    print(\"you\")"
   ]
  },
  {
   "cell_type": "code",
   "execution_count": 23,
   "id": "d8baaed4",
   "metadata": {},
   "outputs": [
    {
     "name": "stdout",
     "output_type": "stream",
     "text": [
      "hello\n",
      "are\n",
      "you\n"
     ]
    }
   ],
   "source": [
    "say_hello()"
   ]
  },
  {
   "cell_type": "code",
   "execution_count": 24,
   "id": "ad47d517",
   "metadata": {},
   "outputs": [],
   "source": [
    "def say_hello(name):\n",
    "    print(f'Hello {name}')"
   ]
  },
  {
   "cell_type": "code",
   "execution_count": 25,
   "id": "6998b37f",
   "metadata": {},
   "outputs": [
    {
     "name": "stdout",
     "output_type": "stream",
     "text": [
      "Hello Jose\n"
     ]
    }
   ],
   "source": [
    "say_hello('Jose')"
   ]
  },
  {
   "cell_type": "code",
   "execution_count": 27,
   "id": "0d862c72",
   "metadata": {},
   "outputs": [],
   "source": [
    "def say_hello(name = 'Default'):\n",
    "    print(f'Hello {name}')"
   ]
  },
  {
   "cell_type": "code",
   "execution_count": 28,
   "id": "23650827",
   "metadata": {},
   "outputs": [
    {
     "name": "stdout",
     "output_type": "stream",
     "text": [
      "Hello Default\n"
     ]
    }
   ],
   "source": [
    "say_hello()"
   ]
  },
  {
   "cell_type": "code",
   "execution_count": null,
   "id": "15f7a8a4",
   "metadata": {},
   "outputs": [],
   "source": []
  }
 ],
 "metadata": {
  "kernelspec": {
   "display_name": "Python 3 (ipykernel)",
   "language": "python",
   "name": "python3"
  },
  "language_info": {
   "codemirror_mode": {
    "name": "ipython",
    "version": 3
   },
   "file_extension": ".py",
   "mimetype": "text/x-python",
   "name": "python",
   "nbconvert_exporter": "python",
   "pygments_lexer": "ipython3",
   "version": "3.9.12"
  }
 },
 "nbformat": 4,
 "nbformat_minor": 5
}
