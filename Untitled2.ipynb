{
 "cells": [
  {
   "cell_type": "code",
   "execution_count": 1,
   "id": "9c1b755e",
   "metadata": {},
   "outputs": [
    {
     "name": "stdout",
     "output_type": "stream",
     "text": [
      "{1: {'name': 'John', 'age': '27', 'sex': 'Male'}, 2: {'name': 'Marie', 'age': '22', 'sex': 'Female'}}\n"
     ]
    }
   ],
   "source": [
    "people = {1: {'name': 'John', 'age': '27', 'sex': 'Male'},\n",
    "          2: {'name': 'Marie', 'age': '22', 'sex': 'Female'}}\n",
    "print(people)\n"
   ]
  },
  {
   "cell_type": "code",
   "execution_count": 2,
   "id": "b05d7014",
   "metadata": {},
   "outputs": [
    {
     "name": "stdout",
     "output_type": "stream",
     "text": [
      "{'Lagos': {'Morning': ['pap', 'rice'], 'Afternoon': ['Akara', 'Beans'], 'Evening': ['Tea', 'Bread']}, 'Abuja': {'Morning': ['Egg', 'Spaghetti'], 'Afternoon': ['yam', 'Plantain'], 'Evening': ['Indomie', 'Toasted Bread']}}\n"
     ]
    }
   ],
   "source": [
    "food = {\"Lagos\": {\"Morning\":[\"pap\", \"rice\"], \"Afternoon\": [\"Akara\", \"Beans\"], \"Evening\":[\"Tea\", \"Bread\"]},\n",
    "         \"Abuja\": {\"Morning\":[\"Egg\", \"Spaghetti\"], \"Afternoon\" : [\"yam\", \"Plantain\"], \"Evening\": [\"Indomie\", \"Toasted Bread\"]}}\n",
    "print(food)"
   ]
  },
  {
   "cell_type": "code",
   "execution_count": 3,
   "id": "721b60d7",
   "metadata": {},
   "outputs": [],
   "source": [
    "def food_picker():  \n",
    "    name = input(\"What is the your name ?:\")\n",
    "    location = input(\"Where are you speaking from?:\")\n",
    "    time = input(\"Input the time of the day:\")\n",
    "    for city, meals in food.items():\n",
    "        if location in city:\n",
    "            for times, dishes in meals.items():\n",
    "                if time in times:\n",
    "                    print(f\"Hi {name}, You are in {location} in the {time}, you should eat {dishes}, Do you want some more?\")\n",
    "    else:\n",
    "        pass"
   ]
  },
  {
   "cell_type": "code",
   "execution_count": 4,
   "id": "7c05974b",
   "metadata": {},
   "outputs": [
    {
     "name": "stdout",
     "output_type": "stream",
     "text": [
      "What is the your name ?:Muminat\n",
      "Where are you speaking from?:Lagos\n",
      "Input the time of the day:Evening\n",
      "Hi Muminat, You are in Lagos in the Evening, you should eat ['Tea', 'Bread'], Do you want some more?\n"
     ]
    }
   ],
   "source": [
    "food_picker()"
   ]
  },
  {
   "cell_type": "code",
   "execution_count": 5,
   "id": "a177a656",
   "metadata": {},
   "outputs": [
    {
     "name": "stdout",
     "output_type": "stream",
     "text": [
      "In Lagos, during the Morning people eat ['pap', 'rice']\n",
      "In Lagos, during the Afternoon people eat ['Akara', 'Beans']\n",
      "In Lagos, during the Evening people eat ['Tea', 'Bread']\n",
      "In Abuja, during the Morning people eat ['Egg', 'Spaghetti']\n",
      "In Abuja, during the Afternoon people eat ['yam', 'Plantain']\n",
      "In Abuja, during the Evening people eat ['Indomie', 'Toasted Bread']\n"
     ]
    }
   ],
   "source": [
    "for city, meals in food.items():\n",
    "    for time, dishes in meals.items():\n",
    "        print(f\"In {city}, during the {time} people eat {dishes}\")"
   ]
  }
 ],
 "metadata": {
  "kernelspec": {
   "display_name": "Python 3 (ipykernel)",
   "language": "python",
   "name": "python3"
  },
  "language_info": {
   "codemirror_mode": {
    "name": "ipython",
    "version": 3
   },
   "file_extension": ".py",
   "mimetype": "text/x-python",
   "name": "python",
   "nbconvert_exporter": "python",
   "pygments_lexer": "ipython3",
   "version": "3.9.12"
  }
 },
 "nbformat": 4,
 "nbformat_minor": 5
}
