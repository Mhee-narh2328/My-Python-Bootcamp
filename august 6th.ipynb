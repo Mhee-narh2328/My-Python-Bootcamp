{
 "cells": [
  {
   "cell_type": "code",
   "execution_count": 1,
   "id": "8e3bdd64",
   "metadata": {},
   "outputs": [],
   "source": [
    "my_list = [1, 2, 3]"
   ]
  },
  {
   "cell_type": "code",
   "execution_count": 3,
   "id": "7c4ddb79",
   "metadata": {},
   "outputs": [],
   "source": [
    "my_list = [\"Muminat\", 20, 28.12]"
   ]
  },
  {
   "cell_type": "code",
   "execution_count": 4,
   "id": "f2588969",
   "metadata": {},
   "outputs": [
    {
     "data": {
      "text/plain": [
       "3"
      ]
     },
     "execution_count": 4,
     "metadata": {},
     "output_type": "execute_result"
    }
   ],
   "source": [
    "len(my_list)"
   ]
  },
  {
   "cell_type": "code",
   "execution_count": 6,
   "id": "7f402f8c",
   "metadata": {},
   "outputs": [],
   "source": [
    "mylist = [\"one\", \"two\", \"three\", \"four\"]"
   ]
  },
  {
   "cell_type": "code",
   "execution_count": 8,
   "id": "81b38938",
   "metadata": {},
   "outputs": [
    {
     "data": {
      "text/plain": [
       "'three'"
      ]
     },
     "execution_count": 8,
     "metadata": {},
     "output_type": "execute_result"
    }
   ],
   "source": [
    "mylist[2] #indexing"
   ]
  },
  {
   "cell_type": "code",
   "execution_count": 12,
   "id": "ea3a65a0",
   "metadata": {},
   "outputs": [],
   "source": [
    "mylist = [\"one\", \"two\", \"three\", \"four\"]"
   ]
  },
  {
   "cell_type": "code",
   "execution_count": 13,
   "id": "92f06dcc",
   "metadata": {},
   "outputs": [
    {
     "data": {
      "text/plain": [
       "['two', 'three', 'four']"
      ]
     },
     "execution_count": 13,
     "metadata": {},
     "output_type": "execute_result"
    }
   ],
   "source": [
    "mylist[1:] #slicing"
   ]
  },
  {
   "cell_type": "code",
   "execution_count": 14,
   "id": "ded03e36",
   "metadata": {},
   "outputs": [],
   "source": [
    "mylist = [\"one\", \"two\", \"three\", \"four\"]"
   ]
  },
  {
   "cell_type": "code",
   "execution_count": 15,
   "id": "ca84c413",
   "metadata": {},
   "outputs": [],
   "source": [
    "anotherlist = [\"five\", \"six\", \"seven\"]"
   ]
  },
  {
   "cell_type": "code",
   "execution_count": 17,
   "id": "e51f7b83",
   "metadata": {},
   "outputs": [],
   "source": [
    "newlist =mylist + anotherlist "
   ]
  },
  {
   "cell_type": "code",
   "execution_count": 19,
   "id": "c95c9d7d",
   "metadata": {},
   "outputs": [
    {
     "name": "stdout",
     "output_type": "stream",
     "text": [
      "['one', 'two', 'three', 'four', 'five', 'six', 'seven']\n"
     ]
    }
   ],
   "source": [
    "print(newlist)"
   ]
  },
  {
   "cell_type": "code",
   "execution_count": 20,
   "id": "c3c47ed7",
   "metadata": {},
   "outputs": [],
   "source": [
    "newlist[0] = \"ONE ALL CAPS\""
   ]
  },
  {
   "cell_type": "code",
   "execution_count": 21,
   "id": "00f8c7a5",
   "metadata": {},
   "outputs": [
    {
     "data": {
      "text/plain": [
       "['ONE ALL CAPS', 'two', 'three', 'four', 'five', 'six', 'seven']"
      ]
     },
     "execution_count": 21,
     "metadata": {},
     "output_type": "execute_result"
    }
   ],
   "source": [
    "newlist"
   ]
  },
  {
   "cell_type": "code",
   "execution_count": 22,
   "id": "68c8ff6a",
   "metadata": {},
   "outputs": [],
   "source": [
    "newlist.append('eight') #append is used to add"
   ]
  },
  {
   "cell_type": "code",
   "execution_count": 23,
   "id": "c19ff649",
   "metadata": {},
   "outputs": [
    {
     "data": {
      "text/plain": [
       "['ONE ALL CAPS', 'two', 'three', 'four', 'five', 'six', 'seven', 'eight']"
      ]
     },
     "execution_count": 23,
     "metadata": {},
     "output_type": "execute_result"
    }
   ],
   "source": [
    "newlist"
   ]
  },
  {
   "cell_type": "code",
   "execution_count": 24,
   "id": "b9db0b62",
   "metadata": {},
   "outputs": [
    {
     "data": {
      "text/plain": [
       "'eight'"
      ]
     },
     "execution_count": 24,
     "metadata": {},
     "output_type": "execute_result"
    }
   ],
   "source": [
    "newlist.pop() #pop is used to remove"
   ]
  },
  {
   "cell_type": "code",
   "execution_count": 25,
   "id": "69693df8",
   "metadata": {},
   "outputs": [
    {
     "data": {
      "text/plain": [
       "['ONE ALL CAPS', 'two', 'three', 'four', 'five', 'six', 'seven']"
      ]
     },
     "execution_count": 25,
     "metadata": {},
     "output_type": "execute_result"
    }
   ],
   "source": [
    "newlist"
   ]
  },
  {
   "cell_type": "code",
   "execution_count": 26,
   "id": "4f019616",
   "metadata": {},
   "outputs": [],
   "source": [
    "popped_item = newlist.pop() #save the pop item into a variable"
   ]
  },
  {
   "cell_type": "code",
   "execution_count": 27,
   "id": "893bbf8e",
   "metadata": {},
   "outputs": [
    {
     "data": {
      "text/plain": [
       "'seven'"
      ]
     },
     "execution_count": 27,
     "metadata": {},
     "output_type": "execute_result"
    }
   ],
   "source": [
    "popped_item"
   ]
  },
  {
   "cell_type": "code",
   "execution_count": 31,
   "id": "2d466dd2",
   "metadata": {},
   "outputs": [
    {
     "data": {
      "text/plain": [
       "'three'"
      ]
     },
     "execution_count": 31,
     "metadata": {},
     "output_type": "execute_result"
    }
   ],
   "source": [
    "newlist.pop(0) #used to remove the particular index indicated"
   ]
  },
  {
   "cell_type": "code",
   "execution_count": 32,
   "id": "b76a5c4d",
   "metadata": {},
   "outputs": [],
   "source": [
    "new_list = [\"apple\", \"jug\", \"kettle\", \"bird\"]"
   ]
  },
  {
   "cell_type": "code",
   "execution_count": 33,
   "id": "5fb3cda8",
   "metadata": {},
   "outputs": [],
   "source": [
    "new_list.sort() #to sort out alphabetically order or in increasing order in cases of numbers"
   ]
  },
  {
   "cell_type": "code",
   "execution_count": 34,
   "id": "dbe5c947",
   "metadata": {},
   "outputs": [
    {
     "data": {
      "text/plain": [
       "['apple', 'bird', 'jug', 'kettle']"
      ]
     },
     "execution_count": 34,
     "metadata": {},
     "output_type": "execute_result"
    }
   ],
   "source": [
    "new_list"
   ]
  },
  {
   "cell_type": "code",
   "execution_count": 35,
   "id": "c2e43c76",
   "metadata": {},
   "outputs": [],
   "source": [
    "new_list.reverse() #to reverse the list "
   ]
  },
  {
   "cell_type": "code",
   "execution_count": null,
   "id": "36f3dd8b",
   "metadata": {},
   "outputs": [],
   "source": [
    "#dictionary"
   ]
  },
  {
   "cell_type": "code",
   "execution_count": 39,
   "id": "d29f6ae1",
   "metadata": {},
   "outputs": [],
   "source": [
    "my_dict = {'key1':'Value1', 'key2':'Value2' }"
   ]
  },
  {
   "cell_type": "code",
   "execution_count": 40,
   "id": "b706195d",
   "metadata": {},
   "outputs": [
    {
     "data": {
      "text/plain": [
       "{'key1': 'Value1', 'key2': 'Value2'}"
      ]
     },
     "execution_count": 40,
     "metadata": {},
     "output_type": "execute_result"
    }
   ],
   "source": [
    "my_dict"
   ]
  },
  {
   "cell_type": "code",
   "execution_count": 41,
   "id": "e66f574e",
   "metadata": {},
   "outputs": [
    {
     "data": {
      "text/plain": [
       "'Value1'"
      ]
     },
     "execution_count": 41,
     "metadata": {},
     "output_type": "execute_result"
    }
   ],
   "source": [
    "my_dict['key1']"
   ]
  },
  {
   "cell_type": "code",
   "execution_count": 42,
   "id": "0fc66b3f",
   "metadata": {},
   "outputs": [],
   "source": [
    "#Example of Dictionaries"
   ]
  },
  {
   "cell_type": "code",
   "execution_count": 43,
   "id": "5b0a681a",
   "metadata": {},
   "outputs": [],
   "source": [
    "prices_of_food ={\"Rice\": 2000, \"beans\": 500, \"milk\": 300}"
   ]
  },
  {
   "cell_type": "code",
   "execution_count": 4,
   "id": "374dc5a7",
   "metadata": {},
   "outputs": [
    {
     "ename": "NameError",
     "evalue": "name 'prices_of_food' is not defined",
     "output_type": "error",
     "traceback": [
      "\u001b[1;31m---------------------------------------------------------------------------\u001b[0m",
      "\u001b[1;31mNameError\u001b[0m                                 Traceback (most recent call last)",
      "Input \u001b[1;32mIn [4]\u001b[0m, in \u001b[0;36m<cell line: 1>\u001b[1;34m()\u001b[0m\n\u001b[1;32m----> 1\u001b[0m \u001b[43mprices_of_food\u001b[49m[\u001b[38;5;124m\"\u001b[39m\u001b[38;5;124mbeans\u001b[39m\u001b[38;5;124m\"\u001b[39m]\n",
      "\u001b[1;31mNameError\u001b[0m: name 'prices_of_food' is not defined"
     ]
    }
   ],
   "source": [
    "prices_of_food[\"beans\"]"
   ]
  },
  {
   "cell_type": "code",
   "execution_count": 3,
   "id": "4c8dba61",
   "metadata": {},
   "outputs": [],
   "source": [
    "tuples = (1, \"food\", 23)"
   ]
  },
  {
   "cell_type": "code",
   "execution_count": 2,
   "id": "3833ac57",
   "metadata": {},
   "outputs": [],
   "source": [
    "new_tuples = tuples[1]"
   ]
  },
  {
   "cell_type": "code",
   "execution_count": 3,
   "id": "5e064d01",
   "metadata": {},
   "outputs": [
    {
     "name": "stdout",
     "output_type": "stream",
     "text": [
      "food\n"
     ]
    }
   ],
   "source": [
    "print(new_tuples)"
   ]
  },
  {
   "cell_type": "code",
   "execution_count": null,
   "id": "cb72e407",
   "metadata": {},
   "outputs": [],
   "source": []
  }
 ],
 "metadata": {
  "kernelspec": {
   "display_name": "Python 3 (ipykernel)",
   "language": "python",
   "name": "python3"
  },
  "language_info": {
   "codemirror_mode": {
    "name": "ipython",
    "version": 3
   },
   "file_extension": ".py",
   "mimetype": "text/x-python",
   "name": "python",
   "nbconvert_exporter": "python",
   "pygments_lexer": "ipython3",
   "version": "3.9.12"
  }
 },
 "nbformat": 4,
 "nbformat_minor": 5
}
