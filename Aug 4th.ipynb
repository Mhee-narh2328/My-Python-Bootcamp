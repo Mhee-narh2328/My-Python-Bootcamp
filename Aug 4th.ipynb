{
 "cells": [
  {
   "cell_type": "code",
   "execution_count": 1,
   "id": "dfa0231e",
   "metadata": {},
   "outputs": [],
   "source": [
    "# Float Formatting follows \"{value:width.precision f}\""
   ]
  },
  {
   "cell_type": "code",
   "execution_count": 3,
   "id": "8edbb1b5",
   "metadata": {},
   "outputs": [],
   "source": [
    "result = 100/777"
   ]
  },
  {
   "cell_type": "code",
   "execution_count": 5,
   "id": "5bf2496b",
   "metadata": {},
   "outputs": [
    {
     "data": {
      "text/plain": [
       "0.1287001287001287"
      ]
     },
     "execution_count": 5,
     "metadata": {},
     "output_type": "execute_result"
    }
   ],
   "source": [
    "result"
   ]
  },
  {
   "cell_type": "code",
   "execution_count": 8,
   "id": "86f00e2f",
   "metadata": {},
   "outputs": [
    {
     "name": "stdout",
     "output_type": "stream",
     "text": [
      "The result is 0.1287001287001287\n"
     ]
    }
   ],
   "source": [
    "print(\"The result is {}\". format(result))"
   ]
  },
  {
   "cell_type": "code",
   "execution_count": 10,
   "id": "329f0380",
   "metadata": {},
   "outputs": [
    {
     "name": "stdout",
     "output_type": "stream",
     "text": [
      "The result is 0.1287001287001287\n"
     ]
    }
   ],
   "source": [
    "print(\"The result is {r}\".format(r = result))"
   ]
  },
  {
   "cell_type": "code",
   "execution_count": 20,
   "id": "874b66da",
   "metadata": {},
   "outputs": [
    {
     "name": "stdout",
     "output_type": "stream",
     "text": [
      "The result is 0.129\n"
     ]
    }
   ],
   "source": [
    "print(\"The result is {r:1.3f}\".format(r = result))"
   ]
  },
  {
   "cell_type": "code",
   "execution_count": 23,
   "id": "878ff5e9",
   "metadata": {},
   "outputs": [],
   "source": [
    "# method 2"
   ]
  },
  {
   "cell_type": "code",
   "execution_count": 24,
   "id": "5e2082e2",
   "metadata": {},
   "outputs": [],
   "source": [
    "name = \"Muminat\""
   ]
  },
  {
   "cell_type": "code",
   "execution_count": 27,
   "id": "81b60f25",
   "metadata": {},
   "outputs": [
    {
     "name": "stdout",
     "output_type": "stream",
     "text": [
      "Her Name is Muminat\n"
     ]
    }
   ],
   "source": [
    "print(f'Her Name is {name}')"
   ]
  },
  {
   "cell_type": "code",
   "execution_count": 28,
   "id": "3cc93202",
   "metadata": {},
   "outputs": [],
   "source": [
    "name = \"Muminat\"\n",
    "age = \"20\""
   ]
  },
  {
   "cell_type": "code",
   "execution_count": 30,
   "id": "f7c99d9e",
   "metadata": {},
   "outputs": [
    {
     "name": "stdout",
     "output_type": "stream",
     "text": [
      "Muminat is 20 years old.\n"
     ]
    }
   ],
   "source": [
    "print(f'{name} is {age} years old.')"
   ]
  }
 ],
 "metadata": {
  "kernelspec": {
   "display_name": "Python 3 (ipykernel)",
   "language": "python",
   "name": "python3"
  },
  "language_info": {
   "codemirror_mode": {
    "name": "ipython",
    "version": 3
   },
   "file_extension": ".py",
   "mimetype": "text/x-python",
   "name": "python",
   "nbconvert_exporter": "python",
   "pygments_lexer": "ipython3",
   "version": "3.9.12"
  }
 },
 "nbformat": 4,
 "nbformat_minor": 5
}
