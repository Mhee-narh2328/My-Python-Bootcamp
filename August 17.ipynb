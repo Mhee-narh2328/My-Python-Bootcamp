{
 "cells": [
  {
   "cell_type": "code",
   "execution_count": 1,
   "id": "e83b90a7",
   "metadata": {},
   "outputs": [],
   "source": [
    "# Tuples it's does support mutability"
   ]
  },
  {
   "cell_type": "code",
   "execution_count": 2,
   "id": "5df5437e",
   "metadata": {},
   "outputs": [],
   "source": [
    "tuples = (1, 2, 3)"
   ]
  },
  {
   "cell_type": "code",
   "execution_count": 3,
   "id": "ba23035a",
   "metadata": {},
   "outputs": [
    {
     "data": {
      "text/plain": [
       "tuple"
      ]
     },
     "execution_count": 3,
     "metadata": {},
     "output_type": "execute_result"
    }
   ],
   "source": [
    "type(tuples)"
   ]
  },
  {
   "cell_type": "code",
   "execution_count": 4,
   "id": "40ce1cf0",
   "metadata": {},
   "outputs": [],
   "source": [
    "tuples = (1, \"two\", 3.1)"
   ]
  },
  {
   "cell_type": "code",
   "execution_count": 7,
   "id": "ba269318",
   "metadata": {},
   "outputs": [
    {
     "data": {
      "text/plain": [
       "3.1"
      ]
     },
     "execution_count": 7,
     "metadata": {},
     "output_type": "execute_result"
    }
   ],
   "source": [
    "# indexing \n",
    "tuples[2] "
   ]
  },
  {
   "cell_type": "code",
   "execution_count": 8,
   "id": "39534def",
   "metadata": {},
   "outputs": [
    {
     "data": {
      "text/plain": [
       "('two', 3.1)"
      ]
     },
     "execution_count": 8,
     "metadata": {},
     "output_type": "execute_result"
    }
   ],
   "source": [
    "# slicing\n",
    "tuples[1:]"
   ]
  },
  {
   "cell_type": "code",
   "execution_count": 9,
   "id": "3ebd4213",
   "metadata": {},
   "outputs": [
    {
     "data": {
      "text/plain": [
       "1"
      ]
     },
     "execution_count": 9,
     "metadata": {},
     "output_type": "execute_result"
    }
   ],
   "source": [
    "# it counts how many times it occurs in the tuples\n",
    "tuples.count(1)"
   ]
  },
  {
   "cell_type": "code",
   "execution_count": 11,
   "id": "9a416522",
   "metadata": {},
   "outputs": [
    {
     "data": {
      "text/plain": [
       "1"
      ]
     },
     "execution_count": 11,
     "metadata": {},
     "output_type": "execute_result"
    }
   ],
   "source": [
    "# the index of the first time it occurs\n",
    "tuples.index('two')"
   ]
  },
  {
   "cell_type": "code",
   "execution_count": 12,
   "id": "ba0d2dc6",
   "metadata": {},
   "outputs": [
    {
     "ename": "TypeError",
     "evalue": "'tuple' object does not support item assignment",
     "output_type": "error",
     "traceback": [
      "\u001b[1;31m---------------------------------------------------------------------------\u001b[0m",
      "\u001b[1;31mTypeError\u001b[0m                                 Traceback (most recent call last)",
      "Input \u001b[1;32mIn [12]\u001b[0m, in \u001b[0;36m<cell line: 2>\u001b[1;34m()\u001b[0m\n\u001b[0;32m      1\u001b[0m \u001b[38;5;66;03m# it doesn't support mutability...it is immutable\u001b[39;00m\n\u001b[1;32m----> 2\u001b[0m tuples[\u001b[38;5;241m0\u001b[39m] \u001b[38;5;241m=\u001b[39m \u001b[38;5;124m'\u001b[39m\u001b[38;5;124mOne\u001b[39m\u001b[38;5;124m'\u001b[39m\n",
      "\u001b[1;31mTypeError\u001b[0m: 'tuple' object does not support item assignment"
     ]
    }
   ],
   "source": [
    "# it doesn't support mutability...it is immutable\n",
    "tuples[0] = 'One'"
   ]
  },
  {
   "cell_type": "code",
   "execution_count": 13,
   "id": "315afda0",
   "metadata": {},
   "outputs": [],
   "source": [
    "# Sets"
   ]
  },
  {
   "cell_type": "code",
   "execution_count": 14,
   "id": "aabd8ae4",
   "metadata": {},
   "outputs": [],
   "source": [
    "myset = set()"
   ]
  },
  {
   "cell_type": "code",
   "execution_count": 15,
   "id": "8e1fa518",
   "metadata": {},
   "outputs": [],
   "source": [
    "myset.add(1)"
   ]
  },
  {
   "cell_type": "code",
   "execution_count": 16,
   "id": "0213d342",
   "metadata": {},
   "outputs": [
    {
     "data": {
      "text/plain": [
       "{1}"
      ]
     },
     "execution_count": 16,
     "metadata": {},
     "output_type": "execute_result"
    }
   ],
   "source": [
    "# it looks similar to a dictionary but it doesnt have key values\n",
    "myset"
   ]
  },
  {
   "cell_type": "code",
   "execution_count": 17,
   "id": "eb09c8ab",
   "metadata": {},
   "outputs": [],
   "source": [
    "myset.add(2)"
   ]
  },
  {
   "cell_type": "code",
   "execution_count": 18,
   "id": "4bf38d29",
   "metadata": {},
   "outputs": [
    {
     "data": {
      "text/plain": [
       "{1, 2}"
      ]
     },
     "execution_count": 18,
     "metadata": {},
     "output_type": "execute_result"
    }
   ],
   "source": [
    "myset"
   ]
  },
  {
   "cell_type": "code",
   "execution_count": 19,
   "id": "57fcbbda",
   "metadata": {},
   "outputs": [
    {
     "data": {
      "text/plain": [
       "{1, 2}"
      ]
     },
     "execution_count": 19,
     "metadata": {},
     "output_type": "execute_result"
    }
   ],
   "source": [
    "# it is unique, can't contain the same value twice\n",
    "myset.add(2)\n",
    "myset"
   ]
  },
  {
   "cell_type": "code",
   "execution_count": 20,
   "id": "eba27eac",
   "metadata": {},
   "outputs": [],
   "source": [
    "myset.add(\"three\")"
   ]
  },
  {
   "cell_type": "code",
   "execution_count": 21,
   "id": "eb887ed6",
   "metadata": {},
   "outputs": [
    {
     "data": {
      "text/plain": [
       "{1, 2, 'three'}"
      ]
     },
     "execution_count": 21,
     "metadata": {},
     "output_type": "execute_result"
    }
   ],
   "source": [
    "myset"
   ]
  },
  {
   "cell_type": "code",
   "execution_count": 22,
   "id": "caa9e142",
   "metadata": {},
   "outputs": [],
   "source": [
    "mylist = [1, 1, 1, 2, 2, 4, 5, 3, 3]"
   ]
  },
  {
   "cell_type": "code",
   "execution_count": 23,
   "id": "0d81c87c",
   "metadata": {},
   "outputs": [
    {
     "data": {
      "text/plain": [
       "{1, 2, 3, 4, 5}"
      ]
     },
     "execution_count": 23,
     "metadata": {},
     "output_type": "execute_result"
    }
   ],
   "source": [
    "# it just return the unique value\n",
    "set(mylist)"
   ]
  },
  {
   "cell_type": "code",
   "execution_count": 24,
   "id": "a9137136",
   "metadata": {},
   "outputs": [],
   "source": [
    "# Booleans i.e True or False, First letter must be capitalize unless python would think you are trying to assign a variable"
   ]
  },
  {
   "cell_type": "code",
   "execution_count": 25,
   "id": "daf09f4b",
   "metadata": {},
   "outputs": [
    {
     "data": {
      "text/plain": [
       "bool"
      ]
     },
     "execution_count": 25,
     "metadata": {},
     "output_type": "execute_result"
    }
   ],
   "source": [
    "type(True)"
   ]
  },
  {
   "cell_type": "code",
   "execution_count": 26,
   "id": "613c655a",
   "metadata": {},
   "outputs": [
    {
     "data": {
      "text/plain": [
       "False"
      ]
     },
     "execution_count": 26,
     "metadata": {},
     "output_type": "execute_result"
    }
   ],
   "source": [
    "1 == 2"
   ]
  },
  {
   "cell_type": "code",
   "execution_count": 27,
   "id": "44420f66",
   "metadata": {},
   "outputs": [
    {
     "data": {
      "text/plain": [
       "True"
      ]
     },
     "execution_count": 27,
     "metadata": {},
     "output_type": "execute_result"
    }
   ],
   "source": [
    "2 > 1"
   ]
  },
  {
   "cell_type": "code",
   "execution_count": null,
   "id": "2974d36d",
   "metadata": {},
   "outputs": [],
   "source": []
  }
 ],
 "metadata": {
  "kernelspec": {
   "display_name": "Python 3 (ipykernel)",
   "language": "python",
   "name": "python3"
  },
  "language_info": {
   "codemirror_mode": {
    "name": "ipython",
    "version": 3
   },
   "file_extension": ".py",
   "mimetype": "text/x-python",
   "name": "python",
   "nbconvert_exporter": "python",
   "pygments_lexer": "ipython3",
   "version": "3.9.12"
  }
 },
 "nbformat": 4,
 "nbformat_minor": 5
}
