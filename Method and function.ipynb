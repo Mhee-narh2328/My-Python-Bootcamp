{
 "cells": [
  {
   "cell_type": "code",
   "execution_count": 32,
   "id": "47c5ffd2",
   "metadata": {},
   "outputs": [],
   "source": [
    "# Write a function that computes the volume of a sphere given its radius\n"
   ]
  },
  {
   "cell_type": "code",
   "execution_count": 5,
   "id": "63342e8c",
   "metadata": {},
   "outputs": [],
   "source": [
    "def vol(rad):\n",
    "    return (4/3)*(3.14)*(rad**3)"
   ]
  },
  {
   "cell_type": "code",
   "execution_count": 6,
   "id": "84f3744c",
   "metadata": {},
   "outputs": [
    {
     "data": {
      "text/plain": [
       "33.49333333333333"
      ]
     },
     "execution_count": 6,
     "metadata": {},
     "output_type": "execute_result"
    }
   ],
   "source": [
    "vol(2)"
   ]
  },
  {
   "cell_type": "code",
   "execution_count": 8,
   "id": "47f89539",
   "metadata": {},
   "outputs": [],
   "source": [
    "# Write a function that checks whether a number is in a given range(inclusive of high and low)\n"
   ]
  },
  {
   "cell_type": "code",
   "execution_count": 10,
   "id": "301fa5b9",
   "metadata": {},
   "outputs": [],
   "source": [
    "def ran_check(num,low,high):\n",
    "    if num in range(low, high+1):\n",
    "        print(f'{num} is in range of {low} and {high}')\n",
    "    else:\n",
    "        print('not in range')"
   ]
  },
  {
   "cell_type": "code",
   "execution_count": 11,
   "id": "c0d3dbe5",
   "metadata": {},
   "outputs": [
    {
     "name": "stdout",
     "output_type": "stream",
     "text": [
      "5 is in range of 2 and 7\n"
     ]
    }
   ],
   "source": [
    "ran_check(5,2,7)"
   ]
  },
  {
   "cell_type": "code",
   "execution_count": 12,
   "id": "3bf1d098",
   "metadata": {},
   "outputs": [],
   "source": [
    "# Write a python function that accepts a string and calculates the number of upper case letters and lower case letters"
   ]
  },
  {
   "cell_type": "code",
   "execution_count": 13,
   "id": "319a7f4d",
   "metadata": {},
   "outputs": [],
   "source": [
    "def up_low(s):\n",
    "    lowercase = 0\n",
    "    uppercase = 0\n",
    "    \n",
    "    for char in s:\n",
    "        if char.isupper():\n",
    "            uppercase += 1\n",
    "        elif char.islower():\n",
    "            lowercase += 1\n",
    "#         Else for if it is neither upper nor lowercase\n",
    "        else:\n",
    "            pass\n",
    "    print(f\"Original String : {s}\")\n",
    "    print(f\"Lowercase count : {lowercase}\")\n",
    "    print(f\"Uppercase count : {uppercase}\")"
   ]
  },
  {
   "cell_type": "code",
   "execution_count": 14,
   "id": "36ef4e58",
   "metadata": {},
   "outputs": [
    {
     "name": "stdout",
     "output_type": "stream",
     "text": [
      "Original String : My Name Is Muminat , How are you doing Today?\n",
      "Lowercase count : 28\n",
      "Uppercase count : 6\n"
     ]
    }
   ],
   "source": [
    "s = \"My Name Is Muminat , How are you doing Today?\"\n",
    "up_low(s)"
   ]
  },
  {
   "cell_type": "code",
   "execution_count": 15,
   "id": "6c12459d",
   "metadata": {},
   "outputs": [],
   "source": [
    "# Write a python function that takes alist and returns a new list with unique elements of the first list"
   ]
  },
  {
   "cell_type": "code",
   "execution_count": 19,
   "id": "1617fab6",
   "metadata": {},
   "outputs": [],
   "source": [
    "def unique_list(lst):\n",
    "    return list(set(lst))"
   ]
  },
  {
   "cell_type": "code",
   "execution_count": 20,
   "id": "57d89510",
   "metadata": {},
   "outputs": [
    {
     "data": {
      "text/plain": [
       "[1, 2, 3, 4, 5]"
      ]
     },
     "execution_count": 20,
     "metadata": {},
     "output_type": "execute_result"
    }
   ],
   "source": [
    "unique_list([1,1,1, 1,2,2,3,3,3,4,5])"
   ]
  },
  {
   "cell_type": "code",
   "execution_count": 21,
   "id": "ae3ad11d",
   "metadata": {},
   "outputs": [],
   "source": [
    "# Write a python function to multiple all the numbers in alist "
   ]
  },
  {
   "cell_type": "code",
   "execution_count": 27,
   "id": "a07dbbf5",
   "metadata": {},
   "outputs": [],
   "source": [
    "def multiply(numbers):\n",
    "    total =1 \n",
    "    for num in numbers:\n",
    "        total = total * num\n",
    "    return total"
   ]
  },
  {
   "cell_type": "code",
   "execution_count": 28,
   "id": "9705cb73",
   "metadata": {},
   "outputs": [
    {
     "data": {
      "text/plain": [
       "-24"
      ]
     },
     "execution_count": 28,
     "metadata": {},
     "output_type": "execute_result"
    }
   ],
   "source": [
    "multiply([1,2,3,-4])"
   ]
  },
  {
   "cell_type": "code",
   "execution_count": 29,
   "id": "b5cdaf2a",
   "metadata": {},
   "outputs": [],
   "source": [
    "# Write a python function that checks whether a word in a palindrome"
   ]
  },
  {
   "cell_type": "code",
   "execution_count": 33,
   "id": "15be2a1a",
   "metadata": {},
   "outputs": [],
   "source": [
    "def palindrome(s):\n",
    "    #Remove the spaces from the string\n",
    "    s = s.replace(' ','')\n",
    "    # Check if the string is == reversed version of the string\n",
    "    return s == s[::-1]\n",
    "    "
   ]
  },
  {
   "cell_type": "code",
   "execution_count": 34,
   "id": "cee59f2e",
   "metadata": {},
   "outputs": [
    {
     "data": {
      "text/plain": [
       "True"
      ]
     },
     "execution_count": 34,
     "metadata": {},
     "output_type": "execute_result"
    }
   ],
   "source": [
    "palindrome(\"nurses run\")"
   ]
  },
  {
   "cell_type": "code",
   "execution_count": null,
   "id": "9fce5ac0",
   "metadata": {},
   "outputs": [],
   "source": [
    "# Write a python function to chec"
   ]
  }
 ],
 "metadata": {
  "kernelspec": {
   "display_name": "Python 3 (ipykernel)",
   "language": "python",
   "name": "python3"
  },
  "language_info": {
   "codemirror_mode": {
    "name": "ipython",
    "version": 3
   },
   "file_extension": ".py",
   "mimetype": "text/x-python",
   "name": "python",
   "nbconvert_exporter": "python",
   "pygments_lexer": "ipython3",
   "version": "3.9.12"
  }
 },
 "nbformat": 4,
 "nbformat_minor": 5
}
