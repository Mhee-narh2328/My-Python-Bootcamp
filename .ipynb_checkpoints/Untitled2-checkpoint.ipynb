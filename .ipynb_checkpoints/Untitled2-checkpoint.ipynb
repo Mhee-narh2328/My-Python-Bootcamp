{
 "cells": [
  {
   "cell_type": "code",
   "execution_count": 1,
   "id": "142c783a",
   "metadata": {},
   "outputs": [
    {
     "name": "stdout",
     "output_type": "stream",
     "text": [
      "{1: {'name': 'John', 'age': '27', 'sex': 'Male'}, 2: {'name': 'Marie', 'age': '22', 'sex': 'Female'}}\n"
     ]
    }
   ],
   "source": [
    "people = {1: {'name': 'John', 'age': '27', 'sex': 'Male'},\n",
    "          2: {'name': 'Marie', 'age': '22', 'sex': 'Female'}}\n",
    "print(people)\n"
   ]
  },
  {
   "cell_type": "code",
   "execution_count": 2,
   "id": "99f2ab19",
   "metadata": {},
   "outputs": [
    {
     "name": "stdout",
     "output_type": "stream",
     "text": [
      "{'Lagos': {'Morning': ['pap', 'rice'], 'Afternoon': ['Akara', 'Beans'], 'Evening': ['Tea', 'Bread']}, 'Abuja': {'Morning': ['Egg', 'Spaghetti'], 'Afternoon': ['yam', 'Plantain'], 'Evening': ['Indomie', 'Toasted Bread']}}\n"
     ]
    }
   ],
   "source": [
    "food = {\"Lagos\": {\"Morning\":[\"pap\", \"rice\"], \"Afternoon\": [\"Akara\", \"Beans\"], \"Evening\":[\"Tea\", \"Bread\"]},\n",
    "         \"Abuja\": {\"Morning\":[\"Egg\", \"Spaghetti\"], \"Afternoon\" : [\"yam\", \"Plantain\"], \"Evening\": [\"Indomie\", \"Toasted Bread\"]}}\n",
    "print(food)"
   ]
  },
  {
   "cell_type": "code",
   "execution_count": 21,
   "id": "2c0fa09e",
   "metadata": {},
   "outputs": [],
   "source": [
    "def food_picker():  \n",
    "    name = input(\"What is the your name ?\")\n",
    "    location = input(\"Where are you speaking from?\")\n",
    "    time = input(\"Input the time of the day\")\n",
    "    for city, meals in food.items():\n",
    "        if location in city:\n",
    "            for times, dishes in meals.items():\n",
    "                if time in times:\n",
    "                    print(f\"Hi {name}, You are in {location} at {time}, you should eat {dishes}, Do you want some more\")\n",
    "    else:\n",
    "        print(\"error\")"
   ]
  },
  {
   "cell_type": "code",
   "execution_count": 22,
   "id": "bdf97976",
   "metadata": {},
   "outputs": [
    {
     "name": "stdout",
     "output_type": "stream",
     "text": [
      "What is the your name ?Muminat\n",
      "Where are you speaking from?Lagos\n",
      "Input the time of the dayEvening\n",
      "okay\n",
      "error\n"
     ]
    }
   ],
   "source": [
    "food_picker()"
   ]
  },
  {
   "cell_type": "code",
   "execution_count": 5,
   "id": "933f7043",
   "metadata": {},
   "outputs": [
    {
     "name": "stdout",
     "output_type": "stream",
     "text": [
      "In Lagos, during the Morning people eat ['pap', 'rice']\n",
      "In Lagos, during the Afternoon people eat ['Akara', 'Beans']\n",
      "In Lagos, during the Evening people eat ['Tea', 'Bread']\n",
      "In Abuja, during the Morning people eat ['Egg', 'Spaghetti']\n",
      "In Abuja, during the Afternoon people eat ['yam', 'Plantain']\n",
      "In Abuja, during the Evening people eat ['Indomie', 'Toasted Bread']\n"
     ]
    }
   ],
   "source": [
    "for city, meals in food.items():\n",
    "    for time, dishes in meals.items():\n",
    "        print(f\"In {city}, during the {time} people eat {dishes}\")"
   ]
  }
 ],
 "metadata": {
  "kernelspec": {
   "display_name": "Python 3 (ipykernel)",
   "language": "python",
   "name": "python3"
  },
  "language_info": {
   "codemirror_mode": {
    "name": "ipython",
    "version": 3
   },
   "file_extension": ".py",
   "mimetype": "text/x-python",
   "name": "python",
   "nbconvert_exporter": "python",
   "pygments_lexer": "ipython3",
   "version": "3.9.12"
  }
 },
 "nbformat": 4,
 "nbformat_minor": 5
}
