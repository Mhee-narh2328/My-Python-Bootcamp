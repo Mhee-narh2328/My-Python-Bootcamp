{
 "cells": [
  {
   "cell_type": "code",
   "execution_count": 4,
   "id": "487ede6a",
   "metadata": {},
   "outputs": [
    {
     "data": {
      "text/plain": [
       "100.25"
      ]
     },
     "execution_count": 4,
     "metadata": {},
     "output_type": "execute_result"
    }
   ],
   "source": [
    "((10 * 10)/100 )+ 100- 0.75"
   ]
  },
  {
   "cell_type": "code",
   "execution_count": 5,
   "id": "776cd7fe",
   "metadata": {},
   "outputs": [
    {
     "data": {
      "text/plain": [
       "17.0"
      ]
     },
     "execution_count": 5,
     "metadata": {},
     "output_type": "execute_result"
    }
   ],
   "source": [
    "8.5*2"
   ]
  },
  {
   "cell_type": "code",
   "execution_count": 6,
   "id": "cbc4f810",
   "metadata": {},
   "outputs": [
    {
     "data": {
      "text/plain": [
       "58.5"
      ]
     },
     "execution_count": 6,
     "metadata": {},
     "output_type": "execute_result"
    }
   ],
   "source": [
    "58.5"
   ]
  },
  {
   "cell_type": "code",
   "execution_count": 7,
   "id": "72390558",
   "metadata": {},
   "outputs": [
    {
     "name": "stderr",
     "output_type": "stream",
     "text": [
      "UsageError: Line magic function `%8.5` not found.\n"
     ]
    }
   ],
   "source": [
    "%8.5\n"
   ]
  },
  {
   "cell_type": "code",
   "execution_count": 11,
   "id": "4dd7fa38",
   "metadata": {},
   "outputs": [
    {
     "data": {
      "text/plain": [
       "'e'"
      ]
     },
     "execution_count": 11,
     "metadata": {},
     "output_type": "execute_result"
    }
   ],
   "source": [
    "string = \"hello\"\n",
    "string[1]"
   ]
  },
  {
   "cell_type": "code",
   "execution_count": 18,
   "id": "ce2f5820",
   "metadata": {},
   "outputs": [
    {
     "data": {
      "text/plain": [
       "''"
      ]
     },
     "execution_count": 18,
     "metadata": {},
     "output_type": "execute_result"
    }
   ],
   "source": [
    "s = \"hello\"\n",
    "s[-1:0]"
   ]
  },
  {
   "cell_type": "code",
   "execution_count": 21,
   "id": "4a77f9b5",
   "metadata": {},
   "outputs": [
    {
     "data": {
      "text/plain": [
       "'o'"
      ]
     },
     "execution_count": 21,
     "metadata": {},
     "output_type": "execute_result"
    }
   ],
   "source": [
    "s = \"hello\"\n",
    "s[-1]\n"
   ]
  },
  {
   "cell_type": "code",
   "execution_count": 24,
   "id": "d6d4ccca",
   "metadata": {},
   "outputs": [],
   "source": [
    "# Comparison OPerators"
   ]
  },
  {
   "cell_type": "code",
   "execution_count": 25,
   "id": "a09be54d",
   "metadata": {},
   "outputs": [
    {
     "data": {
      "text/plain": [
       "True"
      ]
     },
     "execution_count": 25,
     "metadata": {},
     "output_type": "execute_result"
    }
   ],
   "source": [
    "2 == 2 \n",
    "# Equal To"
   ]
  },
  {
   "cell_type": "code",
   "execution_count": 27,
   "id": "e21824e3",
   "metadata": {},
   "outputs": [
    {
     "data": {
      "text/plain": [
       "True"
      ]
     },
     "execution_count": 27,
     "metadata": {},
     "output_type": "execute_result"
    }
   ],
   "source": [
    "'hello' != 'Hello'"
   ]
  },
  {
   "cell_type": "code",
   "execution_count": 28,
   "id": "9b0c8a39",
   "metadata": {},
   "outputs": [
    {
     "data": {
      "text/plain": [
       "True"
      ]
     },
     "execution_count": 28,
     "metadata": {},
     "output_type": "execute_result"
    }
   ],
   "source": [
    "2.0 == 2\n"
   ]
  },
  {
   "cell_type": "code",
   "execution_count": 29,
   "id": "e1ae20e8",
   "metadata": {},
   "outputs": [
    {
     "data": {
      "text/plain": [
       "True"
      ]
     },
     "execution_count": 29,
     "metadata": {},
     "output_type": "execute_result"
    }
   ],
   "source": [
    "2.5 == 5 * 0.5"
   ]
  },
  {
   "cell_type": "code",
   "execution_count": 30,
   "id": "09487f5f",
   "metadata": {},
   "outputs": [
    {
     "data": {
      "text/plain": [
       "True"
      ]
     },
     "execution_count": 30,
     "metadata": {},
     "output_type": "execute_result"
    }
   ],
   "source": [
    "2 < 5\n"
   ]
  },
  {
   "cell_type": "code",
   "execution_count": 32,
   "id": "acc044ce",
   "metadata": {},
   "outputs": [],
   "source": [
    "# Comparison Operators are ==, < , >, >= , <= , !=\n",
    "#logical Operators are and, or , not"
   ]
  },
  {
   "cell_type": "code",
   "execution_count": 33,
   "id": "48ae4ad3",
   "metadata": {},
   "outputs": [
    {
     "data": {
      "text/plain": [
       "True"
      ]
     },
     "execution_count": 33,
     "metadata": {},
     "output_type": "execute_result"
    }
   ],
   "source": [
    "1 < 2 and 2 < 3"
   ]
  },
  {
   "cell_type": "code",
   "execution_count": 34,
   "id": "32c95da9",
   "metadata": {},
   "outputs": [
    {
     "data": {
      "text/plain": [
       "False"
      ]
     },
     "execution_count": 34,
     "metadata": {},
     "output_type": "execute_result"
    }
   ],
   "source": [
    "(\"h\" == 'h') and (2 == 3)\n",
    "# parenthesis depends on choice\n",
    "# and means both have to be true to be true"
   ]
  },
  {
   "cell_type": "code",
   "execution_count": 35,
   "id": "26a973a9",
   "metadata": {},
   "outputs": [
    {
     "data": {
      "text/plain": [
       "True"
      ]
     },
     "execution_count": 35,
     "metadata": {},
     "output_type": "execute_result"
    }
   ],
   "source": [
    "\"h\" == 'h' or 2 == 3\n",
    "# or means at least one has to be true to be true"
   ]
  },
  {
   "cell_type": "code",
   "execution_count": 36,
   "id": "62b7833a",
   "metadata": {},
   "outputs": [
    {
     "data": {
      "text/plain": [
       "False"
      ]
     },
     "execution_count": 36,
     "metadata": {},
     "output_type": "execute_result"
    }
   ],
   "source": [
    "not 1 == 1\n",
    "# not is the opposite of the initial answer"
   ]
  },
  {
   "cell_type": "code",
   "execution_count": 37,
   "id": "b4bfeba0",
   "metadata": {},
   "outputs": [
    {
     "data": {
      "text/plain": [
       "True"
      ]
     },
     "execution_count": 37,
     "metadata": {},
     "output_type": "execute_result"
    }
   ],
   "source": [
    "not 1 == 2\n"
   ]
  },
  {
   "cell_type": "code",
   "execution_count": 38,
   "id": "1989152e",
   "metadata": {},
   "outputs": [],
   "source": [
    "# python statements"
   ]
  },
  {
   "cell_type": "code",
   "execution_count": 40,
   "id": "6fa3ed29",
   "metadata": {},
   "outputs": [
    {
     "name": "stdout",
     "output_type": "stream",
     "text": [
      "ITS TRUE!\n"
     ]
    }
   ],
   "source": [
    "# 1.if, elif and else statement\n",
    "if 3 > 2:\n",
    "    print('ITS TRUE!')\n"
   ]
  },
  {
   "cell_type": "code",
   "execution_count": 1,
   "id": "5e9afc95",
   "metadata": {},
   "outputs": [
    {
     "name": "stdout",
     "output_type": "stream",
     "text": [
      "i am not hungry\n"
     ]
    }
   ],
   "source": [
    "hungry = False\n",
    "if hungry:\n",
    "    print(\"FEED ME\")\n",
    "else:\n",
    "    print('i am not hungry' )"
   ]
  },
  {
   "cell_type": "code",
   "execution_count": 4,
   "id": "1f32b455",
   "metadata": {},
   "outputs": [
    {
     "name": "stdout",
     "output_type": "stream",
     "text": [
      "Money is cool\n"
     ]
    }
   ],
   "source": [
    "loc ='Bank'\n",
    "if loc == 'Auto shop':\n",
    "    print(\"Cars are cool\")\n",
    "elif loc == 'Bank':\n",
    "    print(\"Money is cool\")\n",
    "else:\n",
    "    print(\"i don't know much\")"
   ]
  },
  {
   "cell_type": "code",
   "execution_count": 7,
   "id": "e40e0d5d",
   "metadata": {},
   "outputs": [
    {
     "name": "stdout",
     "output_type": "stream",
     "text": [
      "Namaste Muminat\n"
     ]
    }
   ],
   "source": [
    "name = \"Muminat\"\n",
    "if name == 'Yomi':\n",
    "    print(\"Hi Yomi\")\n",
    "elif name == 'Ayomide':\n",
    "    print(\"Hello Ayo\")\n",
    "else:\n",
    "    print(\"Namaste Muminat\")"
   ]
  },
  {
   "cell_type": "code",
   "execution_count": 8,
   "id": "902d70ab",
   "metadata": {},
   "outputs": [
    {
     "name": "stdout",
     "output_type": "stream",
     "text": [
      "1\n",
      "2\n",
      "3\n"
     ]
    }
   ],
   "source": [
    "# 2. for Loops\n",
    "my_loops = [1, 2, 3]\n",
    "for my_loop in my_loops:\n",
    "    print(my_loop)"
   ]
  },
  {
   "cell_type": "code",
   "execution_count": 9,
   "id": "c70e247c",
   "metadata": {},
   "outputs": [
    {
     "name": "stdout",
     "output_type": "stream",
     "text": [
      "Adefabi\n",
      "Muminat\n",
      "Oriyomi\n"
     ]
    }
   ],
   "source": [
    "my_name = [\"Adefabi\", \"Muminat\", \"Oriyomi\"]\n",
    "for oruko in my_name:\n",
    "    print(oruko)"
   ]
  },
  {
   "cell_type": "code",
   "execution_count": 13,
   "id": "56af36ec",
   "metadata": {},
   "outputs": [
    {
     "name": "stdout",
     "output_type": "stream",
     "text": [
      "Hello\n",
      "Hello\n",
      "Hello\n",
      "Hello\n",
      "Hello\n",
      "Hello\n",
      "Hello\n",
      "Hello\n",
      "Hello\n",
      "Hello\n",
      "Hello\n",
      "Hello\n",
      "Hello\n"
     ]
    }
   ],
   "source": [
    "mylist = [1,2, 3,4, 5, 6,7,8,9, 10, 11,12,13]\n",
    "for num in mylist:\n",
    "    print('Hello')"
   ]
  },
  {
   "cell_type": "code",
   "execution_count": 15,
   "id": "7a6e1d0d",
   "metadata": {},
   "outputs": [
    {
     "name": "stdout",
     "output_type": "stream",
     "text": [
      "Odd Number: 1\n",
      "2\n",
      "Odd Number: 3\n",
      "4\n",
      "Odd Number: 5\n",
      "6\n",
      "Odd Number: 7\n",
      "8\n",
      "Odd Number: 9\n",
      "10\n",
      "Odd Number: 11\n",
      "12\n",
      "Odd Number: 13\n"
     ]
    }
   ],
   "source": [
    "mylist = [1,2, 3,4, 5, 6,7,8,9, 10, 11,12,13]\n",
    "for num in mylist:\n",
    "#     to check if it is even\n",
    "    if num % 2 == 0:\n",
    "        print(num)\n",
    "    else:\n",
    "        print(f'Odd Number: {num}')"
   ]
  },
  {
   "cell_type": "code",
   "execution_count": 16,
   "id": "54c52b46",
   "metadata": {},
   "outputs": [
    {
     "name": "stdout",
     "output_type": "stream",
     "text": [
      "91\n"
     ]
    }
   ],
   "source": [
    "list_sum = 0\n",
    "\n",
    "for num in mylist:\n",
    "    list_sum = list_sum + num\n",
    "print(list_sum)"
   ]
  },
  {
   "cell_type": "code",
   "execution_count": 17,
   "id": "3aada64b",
   "metadata": {},
   "outputs": [
    {
     "name": "stdout",
     "output_type": "stream",
     "text": [
      "1\n",
      "3\n",
      "6\n",
      "10\n",
      "15\n",
      "21\n",
      "28\n",
      "36\n",
      "45\n",
      "55\n",
      "66\n",
      "78\n",
      "91\n"
     ]
    }
   ],
   "source": [
    "list_sum = 0\n",
    "\n",
    "for num in mylist:\n",
    "    list_sum = list_sum + num\n",
    "    print(list_sum)\n",
    "#     if there is an indentation, it shows the addition gradually"
   ]
  },
  {
   "cell_type": "code",
   "execution_count": 18,
   "id": "f173719a",
   "metadata": {},
   "outputs": [
    {
     "name": "stdout",
     "output_type": "stream",
     "text": [
      "H\n",
      "e\n",
      "l\n",
      "l\n",
      "o\n",
      " \n",
      "W\n",
      "o\n",
      "r\n",
      "l\n",
      "d\n"
     ]
    }
   ],
   "source": [
    "mylist = \"Hello World\"\n",
    "for ghgh in mylist:\n",
    "    print(ghgh)"
   ]
  },
  {
   "cell_type": "code",
   "execution_count": 19,
   "id": "ec41b3ea",
   "metadata": {},
   "outputs": [
    {
     "name": "stdout",
     "output_type": "stream",
     "text": [
      "1\n",
      "2\n",
      "3\n"
     ]
    }
   ],
   "source": [
    "tup = (1,2,3)\n",
    "for item in tup:\n",
    "    print(item)"
   ]
  },
  {
   "cell_type": "code",
   "execution_count": 20,
   "id": "a156fc4c",
   "metadata": {},
   "outputs": [],
   "source": [
    "mylist = [(1,2), (3, 4), (5,6), (7,8)]\n"
   ]
  },
  {
   "cell_type": "code",
   "execution_count": 21,
   "id": "c2e12f36",
   "metadata": {},
   "outputs": [
    {
     "name": "stdout",
     "output_type": "stream",
     "text": [
      "(1, 2)\n",
      "(3, 4)\n",
      "(5, 6)\n",
      "(7, 8)\n"
     ]
    }
   ],
   "source": [
    "for items in mylist:\n",
    "    print(items)"
   ]
  },
  {
   "cell_type": "code",
   "execution_count": 23,
   "id": "745a914b",
   "metadata": {},
   "outputs": [
    {
     "name": "stdout",
     "output_type": "stream",
     "text": [
      "1\n",
      "2\n",
      "3\n",
      "4\n",
      "5\n",
      "6\n",
      "7\n",
      "8\n"
     ]
    }
   ],
   "source": [
    "# Tuples Unpacking\n",
    "for (a, b) in mylist:\n",
    "#     the parenthesis is not compulsory\n",
    "    print(a)\n",
    "    print(b)"
   ]
  },
  {
   "cell_type": "code",
   "execution_count": 24,
   "id": "797f366e",
   "metadata": {},
   "outputs": [
    {
     "name": "stdout",
     "output_type": "stream",
     "text": [
      "3\n",
      "8\n",
      "11\n"
     ]
    }
   ],
   "source": [
    "mylist = [(1,2,3), (6,7,8), (9,10, 11)]\n",
    "for a, b,c in mylist:\n",
    "    print(c)"
   ]
  },
  {
   "cell_type": "code",
   "execution_count": 25,
   "id": "1281fee8",
   "metadata": {},
   "outputs": [],
   "source": [
    "dictionary = {'k1': 1, 'k2': 2, 'k3': 3}\n"
   ]
  },
  {
   "cell_type": "code",
   "execution_count": 27,
   "id": "fa0723d9",
   "metadata": {},
   "outputs": [
    {
     "name": "stdout",
     "output_type": "stream",
     "text": [
      "k1\n",
      "k2\n",
      "k3\n"
     ]
    }
   ],
   "source": [
    "# to print out the keys\n",
    "for items in dictionary:\n",
    "    print(items)"
   ]
  },
  {
   "cell_type": "code",
   "execution_count": 30,
   "id": "b83924c9",
   "metadata": {},
   "outputs": [
    {
     "name": "stdout",
     "output_type": "stream",
     "text": [
      "('k1', 1)\n",
      "('k2', 2)\n",
      "('k3', 3)\n"
     ]
    }
   ],
   "source": [
    "# to get keys and values\n",
    "for items in dictionary.items():\n",
    "    print(items)"
   ]
  },
  {
   "cell_type": "code",
   "execution_count": 31,
   "id": "723f287e",
   "metadata": {},
   "outputs": [
    {
     "name": "stdout",
     "output_type": "stream",
     "text": [
      "1\n",
      "2\n",
      "3\n"
     ]
    }
   ],
   "source": [
    "# to get values\n",
    "for key,value in dictionary.items():\n",
    "    print(value)"
   ]
  },
  {
   "cell_type": "code",
   "execution_count": 32,
   "id": "65221736",
   "metadata": {},
   "outputs": [],
   "source": [
    "# 3. While Loops"
   ]
  },
  {
   "cell_type": "code",
   "execution_count": null,
   "id": "d57cd908",
   "metadata": {},
   "outputs": [],
   "source": [
    "x = 0\n",
    "while x < 5:\n",
    "    print(f'The current value of x is {x}')"
   ]
  },
  {
   "cell_type": "code",
   "execution_count": null,
   "id": "e8183de7",
   "metadata": {},
   "outputs": [],
   "source": [
    "x = 0\n",
    "while x < 5:\n",
    "    print(f'The current value of x is {x}')\n",
    "    x = x + 1"
   ]
  },
  {
   "cell_type": "code",
   "execution_count": null,
   "id": "fd36edda",
   "metadata": {},
   "outputs": [],
   "source": [
    "x = 0\n",
    "while x < 5:\n",
    "    print(f'The current value of x is {x}')\n",
    "    x = x + 1"
   ]
  },
  {
   "cell_type": "code",
   "execution_count": 36,
   "id": "1fc87816",
   "metadata": {},
   "outputs": [
    {
     "name": "stdout",
     "output_type": "stream",
     "text": [
      "The current value of x is 0\n",
      "The current value of x is 1\n",
      "The current value of x is 2\n",
      "The current value of x is 3\n",
      "The current value of x is 4\n",
      "X is less than 5\n"
     ]
    }
   ],
   "source": [
    "x = 0\n",
    "while x < 5:\n",
    "    print(f'The current value of x is {x}')\n",
    "    x = x +1\n",
    "else:\n",
    "    print(\"X is less than 5\")"
   ]
  },
  {
   "cell_type": "code",
   "execution_count": 37,
   "id": "177d80f3",
   "metadata": {},
   "outputs": [],
   "source": [
    "# break : Breaks out of the current closest enclosing loop\n",
    "# continue:continue to the top of  closest enclosing loop\n",
    "# pass : Does nothing at all"
   ]
  },
  {
   "cell_type": "code",
   "execution_count": 39,
   "id": "5762edc9",
   "metadata": {},
   "outputs": [
    {
     "name": "stdout",
     "output_type": "stream",
     "text": [
      "end of my script\n"
     ]
    }
   ],
   "source": [
    "x = [1, 2, 3]\n",
    "for item in x:\n",
    "    pass\n",
    "print('end of my script')"
   ]
  },
  {
   "cell_type": "code",
   "execution_count": 40,
   "id": "3113e4c5",
   "metadata": {},
   "outputs": [
    {
     "name": "stdout",
     "output_type": "stream",
     "text": [
      "S\n",
      "m\n",
      "m\n",
      "y\n"
     ]
    }
   ],
   "source": [
    "mystring = \"Sammy\"\n",
    "for letter in mystring:\n",
    "    if letter == 'a':\n",
    "        continue\n",
    "    print(letter)"
   ]
  },
  {
   "cell_type": "code",
   "execution_count": 41,
   "id": "5b669544",
   "metadata": {},
   "outputs": [
    {
     "name": "stdout",
     "output_type": "stream",
     "text": [
      "S\n"
     ]
    }
   ],
   "source": [
    "mystring = \"Sammy\"\n",
    "for letter in mystring:\n",
    "    if letter == 'a':\n",
    "        break\n",
    "    print(letter)"
   ]
  },
  {
   "cell_type": "code",
   "execution_count": 42,
   "id": "30388fa4",
   "metadata": {},
   "outputs": [
    {
     "name": "stdout",
     "output_type": "stream",
     "text": [
      "0\n",
      "1\n"
     ]
    }
   ],
   "source": [
    "x = 0\n",
    "\n",
    "while x < 5:\n",
    "    if x == 2:\n",
    "        break\n",
    "    print(x)\n",
    "    x += 1\n",
    "    "
   ]
  },
  {
   "cell_type": "code",
   "execution_count": 43,
   "id": "e9030ec0",
   "metadata": {},
   "outputs": [],
   "source": [
    "# Useful Operators in Python "
   ]
  },
  {
   "cell_type": "code",
   "execution_count": 48,
   "id": "d3c301f0",
   "metadata": {},
   "outputs": [
    {
     "name": "stdout",
     "output_type": "stream",
     "text": [
      "90\n",
      "92\n",
      "94\n",
      "96\n",
      "98\n",
      "100\n"
     ]
    }
   ],
   "source": [
    "for num in range(90,101, 2):\n",
    "    print(num)"
   ]
  },
  {
   "cell_type": "code",
   "execution_count": 49,
   "id": "99b5e7e2",
   "metadata": {},
   "outputs": [
    {
     "data": {
      "text/plain": [
       "[0, 2, 4, 6, 8, 10]"
      ]
     },
     "execution_count": 49,
     "metadata": {},
     "output_type": "execute_result"
    }
   ],
   "source": [
    "list(range(0, 11, 2))"
   ]
  },
  {
   "cell_type": "code",
   "execution_count": 51,
   "id": "7c815a02",
   "metadata": {},
   "outputs": [
    {
     "name": "stdout",
     "output_type": "stream",
     "text": [
      "At index () the letter is 0\n",
      "At index () the letter is 1\n",
      "At index () the letter is 2\n",
      "At index () the letter is 3\n",
      "At index () the letter is 4\n"
     ]
    }
   ],
   "source": [
    "index_count = 0\n",
    "\n",
    "for letter in 'abcde':\n",
    "    print('At index () the letter is {}'.format(index_count, letter))\n",
    "    index_count += 1"
   ]
  },
  {
   "cell_type": "code",
   "execution_count": null,
   "id": "16fa2347",
   "metadata": {},
   "outputs": [],
   "source": []
  }
 ],
 "metadata": {
  "kernelspec": {
   "display_name": "Python 3 (ipykernel)",
   "language": "python",
   "name": "python3"
  },
  "language_info": {
   "codemirror_mode": {
    "name": "ipython",
    "version": 3
   },
   "file_extension": ".py",
   "mimetype": "text/x-python",
   "name": "python",
   "nbconvert_exporter": "python",
   "pygments_lexer": "ipython3",
   "version": "3.9.12"
  }
 },
 "nbformat": 4,
 "nbformat_minor": 5
}
